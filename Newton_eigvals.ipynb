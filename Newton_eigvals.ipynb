{
 "cells": [
  {
   "cell_type": "code",
   "execution_count": 1,
   "id": "1778e10a-b9d5-46c3-93b1-5eca26fff65d",
   "metadata": {},
   "outputs": [],
   "source": [
    "import numpy as np\n",
    "import matplotlib.pyplot as plt"
   ]
  },
  {
   "cell_type": "code",
   "execution_count": 2,
   "id": "ca0877f5-320e-4cb7-b2c3-9ba448f35f02",
   "metadata": {},
   "outputs": [],
   "source": [
    "def vec_det(mat):\n",
    "    '''\n",
    "    Compute determinant transforming mat in a triangular matrix\n",
    "    '''\n",
    "    if mat.shape[0] != mat.shape[1]: raise TypeError('Matrix not square')\n",
    "    elif (mat == 0).all(axis=0).any() or (mat == 0).all(axis=1).any(): return 0\n",
    "        \n",
    "    mx = np.copy(mat).astype('float64') # necessary to force float division with int arrays! or .astype('float64')\n",
    "    d = 1\n",
    "    \n",
    "    for i in range(mx.shape[0]-1):\n",
    "        \n",
    "        if (mx[i:, i] == 0).all(): return 0\n",
    "        elif (mx[i+1, i] == 0).all(): continue\n",
    "    \n",
    "        ind = np.arange(i, mx.shape[0])[mx[i:, i] != 0][0]\n",
    "        \n",
    "        if ind != i:\n",
    "            d = -d\n",
    "            newOrd = [*range(mx.shape[0])]\n",
    "            newOrd[ind], newOrd[i] = i, ind\n",
    "            mx = mx[newOrd]\n",
    "\n",
    "        d /= mx[i, i]\n",
    "        mx[i] = mx[i] / mx[i, i]\n",
    "        mx[(i+1):] = mx[(i+1):] - mx[(i+1):, i][:, np.newaxis]*mx[i]\n",
    "\n",
    "    return np.multiply.reduce(np.diag(mx)) / d"
   ]
  },
  {
   "cell_type": "markdown",
   "id": "771ce6ae-ff04-4f04-9c40-d5a6fb088e0d",
   "metadata": {},
   "source": [
    "### Characteristic polynomial: \n",
    "https://textbooks.math.gatech.edu/ila/characteristic-polynomial.html"
   ]
  },
  {
   "attachments": {
    "393ac8aa-abfc-446b-8cb2-a63ec3af8b74.png": {
     "image/png": "[encoded data removed]"
    }
   },
   "cell_type": "markdown",
   "id": "f472cd42-7255-40ed-9d30-e6268f2d215a",
   "metadata": {},
   "source": [
    "![image.png](attachment:393ac8aa-abfc-446b-8cb2-a63ec3af8b74.png)"
   ]
  },
  {
   "cell_type": "code",
   "execution_count": 3,
   "id": "ab37c1ea-f97a-4f72-b2e5-89fd17a5e572",
   "metadata": {},
   "outputs": [],
   "source": [
    "def char_coeff(mat):\n",
    "    '''\n",
    "    Return coefficients of characteristic polynomial, ordered from\n",
    "    lower to higher degree\n",
    "    '''\n",
    "    Tr = np.diag(mat).sum() # trace \n",
    "    res = np.array([vec_det(mat)])\n",
    "    \n",
    "    for i in range(mat.shape[0]-1, 0, -1):\n",
    "        res = np.append(res, (-1)**(mat.shape[0] - i)*Tr)\n",
    "    \n",
    "    res = np.append(res, (-1)**(mat.shape[0])) \n",
    "    return res"
   ]
  },
  {
   "cell_type": "code",
   "execution_count": 4,
   "id": "717bf0cd-0aad-4da7-b3e3-060d85c76d0a",
   "metadata": {},
   "outputs": [],
   "source": [
    "arr = np.array([[5, 2], [2, 1]])\n",
    "A = np.array([[ 3,  2,  1,  2], [ 7,  5,  2,  5], [ 0,  0,  9,  4], [ 0,  0, 11,  5]])\n",
    "b = np.array(np.random.randint(1, 101, 100)).reshape((10,10))"
   ]
  },
  {
   "cell_type": "code",
   "execution_count": 5,
   "id": "97500375-3250-4674-9ad0-9b05a8a71833",
   "metadata": {},
   "outputs": [
    {
     "data": {
      "text/plain": [
       "array([ 1., -6.,  1.])"
      ]
     },
     "execution_count": 5,
     "metadata": {},
     "output_type": "execute_result"
    }
   ],
   "source": [
    "char_coeff(arr)"
   ]
  },
  {
   "cell_type": "code",
   "execution_count": 6,
   "id": "352b6dab-787a-48fb-8404-893a2bfe132e",
   "metadata": {},
   "outputs": [
    {
     "data": {
      "text/plain": [
       "array([  1., -22.,  22., -22.,   1.])"
      ]
     },
     "execution_count": 6,
     "metadata": {},
     "output_type": "execute_result"
    }
   ],
   "source": [
    "char_coeff(A)"
   ]
  },
  {
   "cell_type": "code",
   "execution_count": 7,
   "id": "12376d4a-351b-4076-b33a-25fd9f761fe2",
   "metadata": {},
   "outputs": [
    {
     "data": {
      "text/plain": [
       "array([ 5.94353998e+17, -3.67000000e+02,  3.67000000e+02, -3.67000000e+02,\n",
       "        3.67000000e+02, -3.67000000e+02,  3.67000000e+02, -3.67000000e+02,\n",
       "        3.67000000e+02, -3.67000000e+02,  1.00000000e+00])"
      ]
     },
     "execution_count": 7,
     "metadata": {},
     "output_type": "execute_result"
    }
   ],
   "source": [
    "char_coeff(b)"
   ]
  },
  {
   "cell_type": "code",
   "execution_count": 8,
   "id": "f2bd471e-5a08-42c5-9e47-1efcc5e3fc4f",
   "metadata": {},
   "outputs": [],
   "source": [
    "def y_for_x(coeff, x):\n",
    "    '''\n",
    "    Return y value for given x in polynomial with coeff ordered from lower to higher \n",
    "    (operates both with single values or arrays)\n",
    "    '''\n",
    "    y = 0\n",
    "    for i in range(len(coeff)):\n",
    "        y += coeff[i]*x**i\n",
    "    return y"
   ]
  },
  {
   "cell_type": "code",
   "execution_count": 9,
   "id": "1f8df5cc-d444-432d-a36b-a284ac046d3d",
   "metadata": {
    "tags": []
   },
   "outputs": [],
   "source": [
    "def char_polynomial(mat, xmin=-10, xmax=10, steps=200):\n",
    "    '''\n",
    "    Return characteristic polynomial values from xmin to xmax in steps\n",
    "    '''   \n",
    "    x = np.linspace(xmin, xmax, steps)\n",
    "    y = y_for_x(char_coeff(mat), x)\n",
    "\n",
    "    return x, y"
   ]
  },
  {
   "cell_type": "code",
   "execution_count": 10,
   "id": "77b9a9cf-7aec-44e6-b242-cefdfc095d28",
   "metadata": {},
   "outputs": [],
   "source": [
    "x1, y1 = char_polynomial(A)"
   ]
  },
  {
   "cell_type": "code",
   "execution_count": 11,
   "id": "bd523399-606d-4434-9f21-e67d521a087a",
   "metadata": {},
   "outputs": [
    {
     "data": {
      "text/plain": [
       "array([-10.        ,  -9.89949749,  -9.79899497,  -9.69849246,\n",
       "        -9.59798995,  -9.49748744,  -9.39698492,  -9.29648241,\n",
       "        -9.1959799 ,  -9.09547739,  -8.99497487,  -8.89447236,\n",
       "        -8.79396985,  -8.69346734,  -8.59296482,  -8.49246231,\n",
       "        -8.3919598 ,  -8.29145729,  -8.19095477,  -8.09045226])"
      ]
     },
     "execution_count": 11,
     "metadata": {},
     "output_type": "execute_result"
    }
   ],
   "source": [
    "x1[:20]"
   ]
  },
  {
   "cell_type": "code",
   "execution_count": 12,
   "id": "f42521fc-d416-4179-86fb-64d47748d2ab",
   "metadata": {},
   "outputs": [
    {
     "data": {
      "text/plain": [
       "array([34421.        , 33322.12753663, 32248.77720124, 31200.57503048,\n",
       "       30177.14950959, 29178.13157243, 28203.15460145, 27251.85442772,\n",
       "       26323.86933091, 25418.8400393 , 24536.40972977, 23676.2240278 ,\n",
       "       22837.9310075 , 22021.18119157, 21225.6275513 , 20450.92550663,\n",
       "       19696.73292605, 18962.71012671, 18248.51987432, 17553.82738324])"
      ]
     },
     "execution_count": 12,
     "metadata": {},
     "output_type": "execute_result"
    }
   ],
   "source": [
    "y1[:20]"
   ]
  },
  {
   "cell_type": "code",
   "execution_count": 13,
   "id": "e5642dca-834c-4986-a641-3a969cef6562",
   "metadata": {},
   "outputs": [],
   "source": [
    "def char_plot(mat, figsize=(7,5), *args, **kwargs):\n",
    "    '''\n",
    "    Plot char_polynomial with passed args and kwargs and return fig, ax\n",
    "    '''\n",
    "    fig, ax = plt.subplots(figsize=figsize)\n",
    "    data = char_polynomial(mat, *args, **kwargs)\n",
    "    \n",
    "    ax.plot(*data)\n",
    "    ax.hlines(y=0, xmin=min(data[0]), xmax=max(data[0]), color='gray', alpha=0.2)\n",
    "    ax.vlines(x=0, ymin=min(data[1]), ymax=max(data[1]), color='gray', alpha=0.2)\n",
    "    \n",
    "    return fig, ax"
   ]
  },
  {
   "cell_type": "code",
   "execution_count": 14,
   "id": "119584d6-f77e-4672-b359-799783008b0c",
   "metadata": {},
   "outputs": [
    {
     "data": {
      "image/png": "[encoded data removed]",
      "text/plain": [
       "<Figure size 504x360 with 1 Axes>"
      ]
     },
     "metadata": {
      "needs_background": "light"
     },
     "output_type": "display_data"
    }
   ],
   "source": [
    "fig, ax = char_plot(A)"
   ]
  },
  {
   "cell_type": "code",
   "execution_count": 15,
   "id": "d0cf7cda-7175-49a9-b4e5-faba5e8c22f5",
   "metadata": {},
   "outputs": [],
   "source": [
    "def deriv_coeff(coeff):\n",
    "    '''\n",
    "    Calculate first derivative coefficients of a polynomial \n",
    "    whose passed coeff are ordered from lower to higher\n",
    "    '''\n",
    "    der_coeff = np.array([])\n",
    "    for i in range(1, len(coeff)):\n",
    "        der_coeff = np.append(der_coeff, coeff[i]*i)\n",
    "    \n",
    "    return der_coeff"
   ]
  },
  {
   "cell_type": "code",
   "execution_count": 16,
   "id": "7c0f2fde-0acc-4295-996a-22fb79e4c4d3",
   "metadata": {},
   "outputs": [
    {
     "name": "stdout",
     "output_type": "stream",
     "text": [
      "569 µs ± 74.6 µs per loop (mean ± std. dev. of 7 runs, 1000 loops each)\n"
     ]
    },
    {
     "data": {
      "text/plain": [
       "array([ -367.,   734., -1101.,  1468., -1835.,  2202., -2569.,  2936.,\n",
       "       -3303.,    10.])"
      ]
     },
     "execution_count": 16,
     "metadata": {},
     "output_type": "execute_result"
    }
   ],
   "source": [
    "%timeit deriv_coeff(char_coeff(b))\n",
    "deriv_coeff(char_coeff(b))"
   ]
  },
  {
   "cell_type": "code",
   "execution_count": 17,
   "id": "abca3a71-5db2-4aa9-80fd-69c57b81aac5",
   "metadata": {},
   "outputs": [
    {
     "data": {
      "text/plain": [
       "array([-22.,  44., -66.,   4.])"
      ]
     },
     "execution_count": 17,
     "metadata": {},
     "output_type": "execute_result"
    }
   ],
   "source": [
    "deriv_coeff(char_coeff(A))"
   ]
  },
  {
   "cell_type": "code",
   "execution_count": 18,
   "id": "c0f333da-304a-4a10-bac5-530fa83be34a",
   "metadata": {},
   "outputs": [
    {
     "data": {
      "text/plain": [
       "array([-0.05275877])"
      ]
     },
     "execution_count": 18,
     "metadata": {},
     "output_type": "execute_result"
    }
   ],
   "source": [
    "y1[(-0.5 < y1) & (y1 < 0.5)] # values of y1 that are near to zero"
   ]
  },
  {
   "cell_type": "code",
   "execution_count": 19,
   "id": "424d2563-6fc3-404c-a522-b076db8ad454",
   "metadata": {},
   "outputs": [
    {
     "data": {
      "text/plain": [
       "array([0.05025126])"
      ]
     },
     "execution_count": 19,
     "metadata": {},
     "output_type": "execute_result"
    }
   ],
   "source": [
    "x1[(-0.5 < y1) & (y1 < 0.5)] # correspondent x values (candidate solutions)"
   ]
  },
  {
   "attachments": {
    "966f37e8-3394-4f84-b85c-3f93d40ba185.png": {
     "image/png": "[encoded data removed]"
    }
   },
   "cell_type": "markdown",
   "id": "e642af61-cfea-4156-bbd1-6852bc74ee0f",
   "metadata": {},
   "source": [
    "The above values can be used to make first guesses in Newton method:\n",
    "\n",
    "![image.png](attachment:966f37e8-3394-4f84-b85c-3f93d40ba185.png)\n",
    "\n",
    "where x is guess, f(x) is polynomial equation and f'(x) its first derivative."
   ]
  },
  {
   "cell_type": "code",
   "execution_count": 20,
   "id": "8ead2a08-1635-4121-bf2a-230e20ba2258",
   "metadata": {},
   "outputs": [],
   "source": [
    "def newton_eig(mat, guess=np.random.randint(-10, 10, 1), attempts=100, error=0):\n",
    "    '''\n",
    "    From a random guess, execute n attempts with Newton method\n",
    "    '''\n",
    "    charCoeff  = char_coeff(mat)\n",
    "    derivCoeff = deriv_coeff(charCoeff)\n",
    "    \n",
    "    while attempts > 0 or (-error < y_for_x(charCoeff, guess) < error):\n",
    "        guess = guess - (y_for_x(charCoeff, guess) / y_for_x(derivCoeff, guess))\n",
    "        attempts -= 1\n",
    "        \n",
    "    return guess, y_for_x(charCoeff, guess) # i.e. x and y of solution"
   ]
  },
  {
   "cell_type": "code",
   "execution_count": 21,
   "id": "18d277b9-8539-49fd-aabe-3e18d3fad353",
   "metadata": {},
   "outputs": [
    {
     "data": {
      "text/plain": [
       "(array([0.04761392]), array([5.27786229e-18]))"
      ]
     },
     "execution_count": 21,
     "metadata": {},
     "output_type": "execute_result"
    }
   ],
   "source": [
    "newton_eig(A)"
   ]
  },
  {
   "cell_type": "code",
   "execution_count": 22,
   "id": "756377a9-b84c-41ea-bdbd-9824ab8e4757",
   "metadata": {},
   "outputs": [
    {
     "data": {
      "image/png": "[encoded data removed]",
      "text/plain": [
       "<Figure size 504x360 with 1 Axes>"
      ]
     },
     "execution_count": 22,
     "metadata": {},
     "output_type": "execute_result"
    }
   ],
   "source": [
    "ax.plot(*newton_eig(A), 'ko')\n",
    "fig"
   ]
  },
  {
   "cell_type": "markdown",
   "id": "331164e5-6904-437f-b3b0-02f847c11ee1",
   "metadata": {},
   "source": [
    "But using y values (-err < 0 < err) is risky, because if x values are not sufficiently dense the y values nearest to 0 could be very distant in absolute term. So let's define a function that finds eigenvalues with Newton method but using more intelligent initial guesses."
   ]
  },
  {
   "cell_type": "code",
   "execution_count": 23,
   "id": "6d731ff5-a5f6-4877-8d48-cc19de5434db",
   "metadata": {},
   "outputs": [],
   "source": [
    "def all_newton(mat, xmin=-1000, xmax=1000, steps=2000, attempts=100, error=0):\n",
    "    '''\n",
    "    Compute an eigenval beginning from every y sign change.\n",
    "    1) attempts and error are passed to newton_eig\n",
    "    2) xmin, xmax, steps are passed to char_polynomial\n",
    "    '''\n",
    "    x, y = char_polynomial(mat, xmin, xmax, steps) \n",
    "    \n",
    "    guesses = np.append(x[:-1][(y[:-1] > 0)&(y[1:] < 0)],  # values of x when next y value become negative \n",
    "                        x[:-1][(y[:-1] < 0)&(y[1:] > 0)])  # values of x when next y value becomes positive\n",
    "     \n",
    "    eigvals  = set() # so values are not duplicated\n",
    "    \n",
    "    for i in guesses:\n",
    "        eigvals.add(newton_eig(mat, i, attempts, error))\n",
    "        \n",
    "    return tuple(eigvals)\n",
    "# every value of eigenval is tuple of (eigenval, correspondent y values) \n",
    "# i.e. determinants of mat multiplied for correspondent eigenval diag matrix. The nearer to 0, the better the solution"
   ]
  },
  {
   "cell_type": "markdown",
   "id": "b604d6fe-76cf-4053-998a-11e3b24773f4",
   "metadata": {},
   "source": [
    "`all_newton()`: \n",
    " default values of xmin, xmax, steps = -1000, 1000, 2000\n",
    "    \n",
    "            because it is not necessary to have dense values:\n",
    "            use sign inversions as guesses is a solution for discrete problem! \n",
    "            Even if y values computed are not near to 0, we can easily find were \n",
    "            the curve intersecates x axis. So better have a wide values' range \n",
    "            (values are successively refined by newton_eig) than dense values: \n",
    "            we can catch more guesses and hopefully more eigenvalues."
   ]
  },
  {
   "cell_type": "code",
   "execution_count": 24,
   "id": "bd44f78d-d51b-427b-8910-3e1b60979646",
   "metadata": {},
   "outputs": [
    {
     "data": {
      "text/plain": [
       "'eigenvalues solutions: (21.002261701524443, 0.0)'"
      ]
     },
     "execution_count": 24,
     "metadata": {},
     "output_type": "execute_result"
    }
   ],
   "source": [
    "f'eigenvalues solutions: {all_newton(A)[0]}'"
   ]
  },
  {
   "cell_type": "code",
   "execution_count": 25,
   "id": "548628b3-23f1-40e7-8dd9-4731e343e21a",
   "metadata": {},
   "outputs": [
    {
     "data": {
      "text/plain": [
       "'correspondent determinants (measure of solution goodness): (0.04761391959645098, 5.2778622943415454e-18)'"
      ]
     },
     "execution_count": 25,
     "metadata": {},
     "output_type": "execute_result"
    }
   ],
   "source": [
    "f'correspondent determinants (measure of solution goodness): {all_newton(A)[1]}'"
   ]
  },
  {
   "cell_type": "code",
   "execution_count": 26,
   "id": "9a2ff1f4-b042-4597-9923-47c2ae1c202e",
   "metadata": {},
   "outputs": [
    {
     "name": "stdout",
     "output_type": "stream",
     "text": [
      "[[ 6  4  2  4  3  2  1  2]\n",
      " [10  7  3  7  7  5  2  5]\n",
      " [ 3  2 10  6  0  0  9  4]\n",
      " [ 3  2 12  7  0  0 11  5]\n",
      " [ 9  6 14 11  3  2 12  7]\n",
      " [13  9 13 13  7  5 11  9]\n",
      " [13  9 13 13  7  5 11  9]\n",
      " [ 9  6 14 11  3  2 12  7]]\n"
     ]
    }
   ],
   "source": [
    "M = np.hstack([A + A[0], A])\n",
    "M = np.vstack([M, M + M[[*range(M.shape[0]-1, -1, -1)]]])\n",
    "print(M)"
   ]
  },
  {
   "cell_type": "code",
   "execution_count": 27,
   "id": "883fc285-25fa-4d23-8ad1-a79b9f116945",
   "metadata": {},
   "outputs": [
    {
     "data": {
      "text/plain": [
       "(<Figure size 504x360 with 1 Axes>, <AxesSubplot:>)"
      ]
     },
     "execution_count": 27,
     "metadata": {},
     "output_type": "execute_result"
    },
    {
     "data": {
      "image/png": "[encoded data removed]",
      "text/plain": [
       "<Figure size 504x360 with 1 Axes>"
      ]
     },
     "metadata": {
      "needs_background": "light"
     },
     "output_type": "display_data"
    }
   ],
   "source": [
    "# characteristic polynomial of M\n",
    "char_plot(M, xmin=-1000, xmax=1000, steps=2000)"
   ]
  },
  {
   "cell_type": "code",
   "execution_count": 28,
   "id": "77254342-8b3b-4c14-a462-c97e2e4beabf",
   "metadata": {},
   "outputs": [
    {
     "data": {
      "text/plain": [
       "((55.000000000036785, -0.015625), (0.0, 0.0))"
      ]
     },
     "execution_count": 28,
     "metadata": {},
     "output_type": "execute_result"
    }
   ],
   "source": [
    "# find nontrivial solution to characteristic polynomial of M\n",
    "all_newton(M, xmin=-1000, xmax=1000, steps=2000)"
   ]
  },
  {
   "cell_type": "code",
   "execution_count": 29,
   "id": "015197a6-55d8-40ab-983f-978497e81c29",
   "metadata": {},
   "outputs": [
    {
     "data": {
      "image/png": "[encoded data removed]",
      "text/plain": [
       "<Figure size 504x360 with 1 Axes>"
      ]
     },
     "metadata": {
      "needs_background": "light"
     },
     "output_type": "display_data"
    }
   ],
   "source": [
    "# Actually a smaller scale figure reveal an intersection with x axis:\n",
    "fig2, ax2 = char_plot(M, xmin=0, xmax=60)"
   ]
  },
  {
   "cell_type": "code",
   "execution_count": 30,
   "id": "31c6feff-6f23-4723-91b9-e2bce68341b9",
   "metadata": {},
   "outputs": [],
   "source": [
    "derivM = y_for_x(deriv_coeff(M), np.linspace(-1000, 1000, 200))"
   ]
  },
  {
   "cell_type": "code",
   "execution_count": 31,
   "id": "cb8a230b-953e-4114-86d6-4c785fbd784d",
   "metadata": {},
   "outputs": [
    {
     "data": {
      "text/plain": [
       "[<matplotlib.lines.Line2D at 0xc0394e6970>]"
      ]
     },
     "execution_count": 31,
     "metadata": {},
     "output_type": "execute_result"
    },
    {
     "data": {
      "image/png": "[encoded data removed]",
      "text/plain": [
       "<Figure size 432x288 with 1 Axes>"
      ]
     },
     "metadata": {
      "needs_background": "light"
     },
     "output_type": "display_data"
    }
   ],
   "source": [
    "# plot first derivative of characteristic polynomial of M to check where its inclination changes \n",
    "\n",
    "axis = np.linspace(-1000, 1000, 2000)\n",
    "derivM = y_for_x(deriv_coeff(char_coeff(M)), axis)\n",
    "fig3, ax3 = plt.subplots()\n",
    "ax3.plot(axis, derivM)"
   ]
  },
  {
   "cell_type": "code",
   "execution_count": 32,
   "id": "0ec6dccb-7a4e-43ab-a159-e171c5cbd51f",
   "metadata": {},
   "outputs": [
    {
     "name": "stdout",
     "output_type": "stream",
     "text": [
      "[47.52376188] [48.52426213]\n"
     ]
    }
   ],
   "source": [
    "# x values before and after inversion of curve \n",
    "\n",
    "print(axis[:-1][(derivM[:-1] < 0)&(derivM[1:] > 0)],\n",
    "      axis[1: ][(derivM[:-1] < 0)&(derivM[1:] > 0)])"
   ]
  },
  {
   "cell_type": "code",
   "execution_count": 33,
   "id": "ee332bd9-95fb-4699-95f9-b791f2b3a90f",
   "metadata": {},
   "outputs": [
    {
     "name": "stdout",
     "output_type": "stream",
     "text": [
      "x value before inclination inversion: [48.14314314] \n",
      "x value after inclination inversion: [48.13813814] \n",
      "\n",
      "mean: [48.14064064]\n"
     ]
    }
   ],
   "source": [
    "# determinate flexion point more precisely (with a denser axis)\n",
    "\n",
    "axisTmp = np.linspace(45, 50, 1000)\n",
    "tmp     = y_for_x(deriv_coeff(char_coeff(M)), axisTmp)\n",
    "before  = axisTmp[1:][(tmp[:-1] < 0)&(tmp[1:] > 0)]\n",
    "after   = axisTmp[:-1][(tmp[:-1] < 0)&(tmp[1:] > 0)]\n",
    "print(f'x value before inclination inversion: {before}',\n",
    "      f'\\nx value after inclination inversion: {after}', \n",
    "      f'\\n\\nmean: {(before + after)/2}')"
   ]
  },
  {
   "cell_type": "code",
   "execution_count": 34,
   "id": "1fed19ac-9425-4ee6-ac1f-a41fd4a1fa08",
   "metadata": {},
   "outputs": [
    {
     "data": {
      "image/png": "[encoded data removed]",
      "text/plain": [
       "<Figure size 504x360 with 1 Axes>"
      ]
     },
     "execution_count": 34,
     "metadata": {},
     "output_type": "execute_result"
    }
   ],
   "source": [
    "# plot point where char_polynomial of M changes inclination\n",
    "ax2.plot((before+after)/2, y_for_x(char_coeff(M), (before+after)/2), 'ko')\n",
    "fig2"
   ]
  }
 ],
 "metadata": {
  "kernelspec": {
   "display_name": "Python 3",
   "language": "python",
   "name": "python3"
  },
  "language_info": {
   "codemirror_mode": {
    "name": "ipython",
    "version": 3
   },
   "file_extension": ".py",
   "mimetype": "text/x-python",
   "name": "python",
   "nbconvert_exporter": "python",
   "pygments_lexer": "ipython3",
   "version": "3.8.8"
  }
 },
 "nbformat": 4,
 "nbformat_minor": 5
}
